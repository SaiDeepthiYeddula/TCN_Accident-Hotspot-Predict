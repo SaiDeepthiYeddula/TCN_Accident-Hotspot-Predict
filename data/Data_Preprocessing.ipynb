{
  "nbformat": 4,
  "nbformat_minor": 0,
  "metadata": {
    "colab": {
      "provenance": []
    },
    "kernelspec": {
      "name": "python3",
      "display_name": "Python 3"
    },
    "language_info": {
      "name": "python"
    }
  },
  "cells": [
    {
      "cell_type": "code",
      "execution_count": null,
      "metadata": {
        "id": "4XCrtRCVxJnx"
      },
      "outputs": [],
      "source": [
        "import pandas as pd\n",
        "accident_data = pd.read_csv(\"accident.csv\")"
      ]
    },
    {
      "cell_type": "code",
      "execution_count": null,
      "metadata": {
        "colab": {
          "base_uri": "https://localhost:8080/"
        },
        "id": "ENER9BZrs9yX",
        "outputId": "55d68a2c-124f-4aca-d266-9b666eaaf1dc"
      },
      "outputs": [
        {
          "name": "stdout",
          "output_type": "stream",
          "text": [
            "STATENAME\n",
            "California              3558\n",
            "Texas                   3520\n",
            "Florida                 3098\n",
            "Georgia                 1522\n",
            "North Carolina          1412\n",
            "Ohio                    1154\n",
            "Tennessee               1119\n",
            "Illinois                1087\n",
            "Pennsylvania            1060\n",
            "Michigan                1011\n",
            "Arizona                  967\n",
            "New York                 963\n",
            "South Carolina           962\n",
            "Missouri                 914\n",
            "Alabama                  852\n",
            "Indiana                  815\n",
            "Virginia                 796\n",
            "Louisiana                762\n",
            "Kentucky                 709\n",
            "Mississippi              687\n",
            "Oklahoma                 599\n",
            "Arkansas                 585\n",
            "Colorado                 574\n",
            "Wisconsin                561\n",
            "New Jersey               547\n",
            "Maryland                 540\n",
            "Washington               525\n",
            "Oregon                   461\n",
            "Kansas                   382\n",
            "Minnesota                369\n",
            "New Mexico               365\n",
            "Massachusetts            327\n",
            "Iowa                     304\n",
            "Nevada                   293\n",
            "Connecticut              279\n",
            "Utah                     256\n",
            "West Virginia            249\n",
            "Nebraska                 217\n",
            "Montana                  190\n",
            "Idaho                    188\n",
            "Maine                    151\n",
            "South Dakota             132\n",
            "Wyoming                  114\n",
            "Delaware                 104\n",
            "New Hampshire             98\n",
            "North Dakota              96\n",
            "Hawaii                    81\n",
            "Rhode Island              66\n",
            "Vermont                   58\n",
            "Alaska                    53\n",
            "District of Columbia      34\n",
            "dtype: int64\n"
          ]
        }
      ],
      "source": [
        "# Count the number of accidents by state\n",
        "state_counts = df.groupby('STATENAME').size().sort_values(ascending=False)\n",
        "print(state_counts)"
      ]
    },
    {
      "cell_type": "code",
      "source": [
        "import pandas as pd\n",
        "import numpy as np\n",
        "import matplotlib.pyplot as plt\n",
        "from scipy.stats import gaussian_kde\n",
        "\n",
        "# Load the dataset into a Pandas DataFrame\n",
        "#df = pd.read_csv('dataset.csv')\n",
        "\n",
        "# Select the columns containing the spatial coordinates\n",
        "x = accident_data['LATITUDE']\n",
        "y = accident_data['LONGITUD']\n",
        "\n",
        "# Calculate the kernel density estimate\n",
        "kde = gaussian_kde(np.vstack([x, y]))\n",
        "z = kde(np.vstack([x, y]))\n",
        "\n",
        "# Find the location of the maximum density estimate\n",
        "idx_max = z.argmax()\n",
        "x_max, y_max = x.iloc[idx_max], y.iloc[idx_max]\n",
        "\n",
        "# Set a threshold for identifying hotspots\n",
        "threshold = 0.001\n",
        "\n",
        "# Find the indices of the points above the threshold\n",
        "idx_hotspots = np.where(z > threshold)[0]\n",
        "\n",
        "# Print the number of hotspots and their locations\n",
        "print(f'Found {len(idx_hotspots)} hotspots at locations:')\n",
        "for idx in idx_hotspots:\n",
        "    print(f'  ({x.iloc[idx]:.3f}, {y.iloc[idx]:.3f})')\n",
        "# Create a new column in the DataFrame to store the hotspot labels\n",
        "df['hotspot'] = 0\n",
        "\n",
        "# Assign the hotspot labels to the corresponding records\n",
        "df.loc[idx_hotspots, 'hotspot'] = 1\n",
        "\n",
        "# Save the updated DataFrame to a new CSV file\n",
        "df.to_csv('acc_dataset_with_hotspots.csv', index=False)\n"
      ],
      "metadata": {
        "id": "QjBMDtBMx_DY"
      },
      "execution_count": null,
      "outputs": []
    },
    {
      "cell_type": "code",
      "source": [
        "# Filter out columns with the suffix \"name\"\n",
        "new_data = accident_data[accident_data.columns[~accident_data.columns.str.endswith(\"NAME\")]]\n",
        "new_data.columns"
      ],
      "metadata": {
        "id": "dTxpt5_cyJov"
      },
      "execution_count": null,
      "outputs": []
    },
    {
      "cell_type": "code",
      "source": [
        "new_data = new_data.drop('TWAY_ID', axis=1)\n",
        "new_data = new_data.drop('TWAY_ID2', axis=1)\n",
        "new_data = new_data.drop('RAIL', axis=1)\n",
        "unknown_values = new_data.apply(lambda col: col.str.contains('Unknown', na=False).any() if col.dtype == 'object' else False)\n",
        "na_values = new_data.apply(lambda col: col.str.contains('Not Applicable', na=False).any() if col.dtype == 'object' else False)\n",
        "print('unknown_values', unknown_values)\n",
        "print('na_values', na_values)"
      ],
      "metadata": {
        "id": "XWestWbsyVn6"
      },
      "execution_count": null,
      "outputs": []
    },
    {
      "cell_type": "code",
      "source": [
        "new_data = new_data.reindex(columns=['LATITUDE', 'LONGITUD', 'STATE', 'ST_CASE', 'VE_TOTAL', 'VE_FORMS', 'PVH_INVL', 'PEDS',\n",
        "       'PERSONS', 'PERMVIT', 'PERNOTMVIT', 'COUNTY', 'CITY', 'DAY', 'MONTH',\n",
        "       'YEAR', 'DAY_WEEK', 'HOUR', 'MINUTE', 'NHS', 'ROUTE', 'RUR_URB',\n",
        "       'FUNC_SYS', 'RD_OWNER', 'MILEPT', 'SP_JUR',\n",
        "       'HARM_EV', 'MAN_COLL', 'RELJCT1', 'RELJCT2', 'TYP_INT', 'WRK_ZONE',\n",
        "       'REL_ROAD', 'LGT_COND', 'WEATHER', 'SCH_BUS', 'NOT_HOUR', 'NOT_MIN',\n",
        "       'ARR_HOUR', 'ARR_MIN', 'HOSP_HR', 'HOSP_MN', 'FATALS', 'DRUNK_DR',\n",
        "       'hotspot'])"
      ],
      "metadata": {
        "id": "HfNKymg3ycMI"
      },
      "execution_count": null,
      "outputs": []
    }
  ]
}